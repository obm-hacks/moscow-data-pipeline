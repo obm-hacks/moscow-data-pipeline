{
 "cells": [
  {
   "cell_type": "code",
   "execution_count": 1,
   "metadata": {},
   "outputs": [],
   "source": [
    "import pandas as pd\n",
    "from pandarallel import pandarallel\n",
    "from typing import defaultdict\n",
    "from datetime import datetime"
   ]
  },
  {
   "cell_type": "code",
   "execution_count": 2,
   "metadata": {},
   "outputs": [],
   "source": [
    "data_path = '../data/'"
   ]
  },
  {
   "cell_type": "markdown",
   "metadata": {},
   "source": [
    "### ИПЦ"
   ]
  },
  {
   "cell_type": "code",
   "execution_count": 3,
   "metadata": {},
   "outputs": [],
   "source": [
    "ipc = pd.read_feather(data_path + '/external/ИПЦ.feather')"
   ]
  },
  {
   "cell_type": "code",
   "execution_count": 4,
   "metadata": {},
   "outputs": [],
   "source": [
    "ipc.drop(columns=[(2019, 'II квартал')], inplace=True)"
   ]
  },
  {
   "cell_type": "code",
   "execution_count": 5,
   "metadata": {},
   "outputs": [],
   "source": [
    "ipc.columns = ipc.columns.to_flat_index()\n",
    "ipc.reset_index(inplace=True)\n",
    "ipc.rename(columns={'level_0': 'area', 'level_1': 'subject'}, inplace=True)\n",
    "months_mapper = {\n",
    "    'январь': 1,\n",
    "    'февраль': 2,\n",
    "    'март': 3,\n",
    "    'апрель': 4,\n",
    "    'май': 5,\n",
    "    'июнь': 6,\n",
    "    'июль': 7,\n",
    "    'август': 8,\n",
    "    'сентябрь': 9,\n",
    "    'октябрь': 10,\n",
    "    'ноябрь': 11,\n",
    "    'декабрь': 12\n",
    "}\n",
    "ipc.columns = ['area', 'subject'] + [pd.to_datetime(str(col[0]) + '-' + str(months_mapper[col[1]]), errors='coerce').date()\n",
    "                                     for col in ipc.iloc[:, 2:].columns]"
   ]
  },
  {
   "cell_type": "code",
   "execution_count": 6,
   "metadata": {},
   "outputs": [],
   "source": [
    "ipc = pd.melt(ipc, id_vars=ipc.columns[:2], value_vars=ipc.columns[2:], var_name='month', value_name='ipc')"
   ]
  },
  {
   "cell_type": "code",
   "execution_count": 7,
   "metadata": {},
   "outputs": [
    {
     "name": "stdout",
     "output_type": "stream",
     "text": [
      "(56588, 4)\n"
     ]
    }
   ],
   "source": [
    "print(ipc.shape)"
   ]
  },
  {
   "cell_type": "code",
   "execution_count": 8,
   "metadata": {},
   "outputs": [
    {
     "data": {
      "text/plain": [
       "41"
      ]
     },
     "execution_count": 8,
     "metadata": {},
     "output_type": "execute_result"
    }
   ],
   "source": [
    "ipc.area.nunique()"
   ]
  },
  {
   "cell_type": "code",
   "execution_count": 9,
   "metadata": {},
   "outputs": [],
   "source": [
    "def columns_report(data: pd.DataFrame) -> None:\n",
    "\n",
    "    print('Rows:', data.shape[0], end='\\n'*2)\n",
    "\n",
    "    stats = defaultdict(list)\n",
    "    for col in data.columns:\n",
    "        stats['Column'].append(col)\n",
    "        stats['Unique'].append(data[col].nunique())\n",
    "        stats['Duplicates'].append(data[col].duplicated().sum())\n",
    "        stats['Missing'].append(data[col].isna().sum())\n",
    "        stats['Missing%'].append(data[col].isna().mean() * 100)\n",
    "        stats['HitRate%'].append((1 - data[col].isna().mean()) * 100)\n",
    "    stats = pd.DataFrame(stats)\n",
    "\n",
    "    print(stats.to_string(index=False))"
   ]
  },
  {
   "cell_type": "code",
   "execution_count": 10,
   "metadata": {},
   "outputs": [
    {
     "name": "stdout",
     "output_type": "stream",
     "text": [
      "Rows: 56588\n",
      "\n",
      " Column  Unique  Duplicates  Missing  Missing%   HitRate%\n",
      "   area      41       56547        0  0.000000 100.000000\n",
      "subject      15       56573        0  0.000000 100.000000\n",
      "  month      94       56494        0  0.000000 100.000000\n",
      "    ipc    1409       55178     3069  5.423411  94.576589\n"
     ]
    }
   ],
   "source": [
    "columns_report(ipc)"
   ]
  },
  {
   "cell_type": "code",
   "execution_count": 11,
   "metadata": {},
   "outputs": [],
   "source": [
    "areas = ['край', 'область', 'республика', 'округ', 'российская федерация', 'москва', 'санкт-петербург']\n",
    "stop_words = areas[:4]"
   ]
  },
  {
   "cell_type": "code",
   "execution_count": 12,
   "metadata": {},
   "outputs": [],
   "source": [
    "def rm_stop_words(s: str, stop_words=stop_words):\n",
    "    return ' '.join(w for w in s.split() if w not in stop_words)\n",
    "\n",
    "def prep_fedstat_geo(data: pd.DataFrame, subs_to_maintain: list,\n",
    "                     geo_col: str = 'area') -> pd.DataFrame:\n",
    "\n",
    "    pandarallel.initialize(progress_bar=False, nb_workers=12)\n",
    "\n",
    "    data[geo_col] = data[geo_col]\\\n",
    "        .str.strip()\\\n",
    "        .str.lower()\\\n",
    "        .str.replace(r'\\s*\\(.*\\)', '', regex=True)\\\n",
    "        .str.replace(r' - .*', '', regex=True)\n",
    "    data = data.loc[\n",
    "        data[geo_col].str.contains('|'.join(subs_to_maintain))].reset_index(drop=True)\n",
    "    data[geo_col] = data[geo_col].parallel_apply(\n",
    "        rm_stop_words)\\\n",
    "        .str.strip()\n",
    "\n",
    "    return data"
   ]
  },
  {
   "cell_type": "code",
   "execution_count": 13,
   "metadata": {},
   "outputs": [
    {
     "name": "stdout",
     "output_type": "stream",
     "text": [
      "INFO: Pandarallel will run on 12 workers.\n",
      "INFO: Pandarallel will use standard multiprocessing data transfer (pipe) to transfer data between the main process and workers.\n",
      "\n",
      "WARNING: You are on Windows. If you detect any issue with pandarallel, be sure you checked out the Troubleshooting page:\n",
      "https://nalepae.github.io/pandarallel/troubleshooting/\n"
     ]
    }
   ],
   "source": [
    "ipc = prep_fedstat_geo(ipc, areas)"
   ]
  },
  {
   "cell_type": "code",
   "execution_count": 14,
   "metadata": {},
   "outputs": [],
   "source": [
    "ipc.loc[ipc.area == 'город москва столица российской федерации город федерального значения', 'area'] = 'москва'\n",
    "ipc.loc[ipc.area == 'город санкт-петербург город федерального значения', 'area'] = 'санкт-петербург'"
   ]
  },
  {
   "cell_type": "code",
   "execution_count": 20,
   "metadata": {},
   "outputs": [
    {
     "name": "stderr",
     "output_type": "stream",
     "text": [
      "d:\\Programs\\Python\\Python311\\Lib\\site-packages\\pyarrow\\pandas_compat.py:373: FutureWarning: is_sparse is deprecated and will be removed in a future version. Check `isinstance(dtype, pd.SparseDtype)` instead.\n",
      "  if _pandas_api.is_sparse(col):\n"
     ]
    }
   ],
   "source": [
    "ipc.to_feather(data_path + 'external/ipc_preprocessed.frt')"
   ]
  },
  {
   "cell_type": "code",
   "execution_count": 23,
   "metadata": {},
   "outputs": [
    {
     "data": {
      "text/html": [
       "<div>\n",
       "<style scoped>\n",
       "    .dataframe tbody tr th:only-of-type {\n",
       "        vertical-align: middle;\n",
       "    }\n",
       "\n",
       "    .dataframe tbody tr th {\n",
       "        vertical-align: top;\n",
       "    }\n",
       "\n",
       "    .dataframe thead th {\n",
       "        text-align: right;\n",
       "    }\n",
       "</style>\n",
       "<table border=\"1\" class=\"dataframe\">\n",
       "  <thead>\n",
       "    <tr style=\"text-align: right;\">\n",
       "      <th></th>\n",
       "      <th>area</th>\n",
       "      <th>subject</th>\n",
       "      <th>month</th>\n",
       "      <th>ipc</th>\n",
       "    </tr>\n",
       "  </thead>\n",
       "  <tbody>\n",
       "    <tr>\n",
       "      <th>0</th>\n",
       "      <td>российская федерация</td>\n",
       "      <td>Все товары и услуги</td>\n",
       "      <td>2016-01-01</td>\n",
       "      <td>100.96</td>\n",
       "    </tr>\n",
       "    <tr>\n",
       "      <th>1</th>\n",
       "      <td>российская федерация</td>\n",
       "      <td>Базовый индекс потребительских цен</td>\n",
       "      <td>2016-01-01</td>\n",
       "      <td>100.82</td>\n",
       "    </tr>\n",
       "    <tr>\n",
       "      <th>2</th>\n",
       "      <td>российская федерация</td>\n",
       "      <td>Оплата холодного водоснабжения и водоотведения</td>\n",
       "      <td>2016-01-01</td>\n",
       "      <td>100.09</td>\n",
       "    </tr>\n",
       "    <tr>\n",
       "      <th>3</th>\n",
       "      <td>российская федерация</td>\n",
       "      <td>Оплата горячего водоснабжения</td>\n",
       "      <td>2016-01-01</td>\n",
       "      <td>100.06</td>\n",
       "    </tr>\n",
       "    <tr>\n",
       "      <th>4</th>\n",
       "      <td>российская федерация</td>\n",
       "      <td>Услуги по подключению к сети Интернет</td>\n",
       "      <td>2016-01-01</td>\n",
       "      <td>100.02</td>\n",
       "    </tr>\n",
       "  </tbody>\n",
       "</table>\n",
       "</div>"
      ],
      "text/plain": [
       "                   area                                         subject  \\\n",
       "0  российская федерация                             Все товары и услуги   \n",
       "1  российская федерация              Базовый индекс потребительских цен   \n",
       "2  российская федерация  Оплата холодного водоснабжения и водоотведения   \n",
       "3  российская федерация                   Оплата горячего водоснабжения   \n",
       "4  российская федерация           Услуги по подключению к сети Интернет   \n",
       "\n",
       "        month     ipc  \n",
       "0  2016-01-01  100.96  \n",
       "1  2016-01-01  100.82  \n",
       "2  2016-01-01  100.09  \n",
       "3  2016-01-01  100.06  \n",
       "4  2016-01-01  100.02  "
      ]
     },
     "execution_count": 23,
     "metadata": {},
     "output_type": "execute_result"
    }
   ],
   "source": [
    "ipc.head()"
   ]
  },
  {
   "cell_type": "markdown",
   "metadata": {},
   "source": [
    "### Ставка ЦБ"
   ]
  },
  {
   "cell_type": "code",
   "execution_count": null,
   "metadata": {},
   "outputs": [],
   "source": []
  },
  {
   "cell_type": "code",
   "execution_count": null,
   "metadata": {},
   "outputs": [],
   "source": []
  }
 ],
 "metadata": {
  "kernelspec": {
   "display_name": "Python 3",
   "language": "python",
   "name": "python3"
  },
  "language_info": {
   "codemirror_mode": {
    "name": "ipython",
    "version": 3
   },
   "file_extension": ".py",
   "mimetype": "text/x-python",
   "name": "python",
   "nbconvert_exporter": "python",
   "pygments_lexer": "ipython3",
   "version": "3.11.2"
  },
  "orig_nbformat": 4
 },
 "nbformat": 4,
 "nbformat_minor": 2
}
