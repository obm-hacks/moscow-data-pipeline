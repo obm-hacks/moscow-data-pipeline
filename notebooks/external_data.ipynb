{
 "cells": [
  {
   "cell_type": "code",
   "execution_count": 1,
   "metadata": {},
   "outputs": [],
   "source": [
    "import pandas as pd\n",
    "from pandarallel import pandarallel\n",
    "from typing import defaultdict"
   ]
  },
  {
   "cell_type": "code",
   "execution_count": 2,
   "metadata": {},
   "outputs": [],
   "source": [
    "data_path = '../data/'"
   ]
  },
  {
   "cell_type": "markdown",
   "metadata": {},
   "source": [
    "### ИПЦ"
   ]
  },
  {
   "cell_type": "code",
   "execution_count": 3,
   "metadata": {},
   "outputs": [],
   "source": [
    "ipc = pd.read_feather(data_path + '/external/ipc.feather')"
   ]
  },
  {
   "cell_type": "code",
   "execution_count": 4,
   "metadata": {},
   "outputs": [],
   "source": [
    "# ipc.columns = ipc.columns.to_flat_index()\n",
    "# ipc.reset_index(inplace=True)\n",
    "# ipc.rename(columns={'level_0': 'area', 'level_1': 'subject'}, inplace=True)\n",
    "# months_mapper = {\n",
    "#     'январь': 1,\n",
    "#     'февраль': 2,\n",
    "#     'март': 3,\n",
    "#     'апрель': 4,\n",
    "#     'май': 5,\n",
    "#     'июнь': 6,\n",
    "#     'июль': 7,\n",
    "#     'август': 8,\n",
    "#     'сентябрь': 9,\n",
    "#     'октябрь': 10,\n",
    "#     'ноябрь': 11,\n",
    "#     'декабрь': 12\n",
    "# }\n",
    "# ipc.columns = ['area', 'subject'] + [pd.to_datetime(str(col[0]) + '-' + str(months_mapper[col[1]]), errors='coerce').date()\n",
    "#                                      for col in ipc.iloc[:, 2:].columns]"
   ]
  },
  {
   "cell_type": "code",
   "execution_count": 5,
   "metadata": {},
   "outputs": [],
   "source": [
    "# ipc = pd.melt(ipc, id_vars=ipc.columns[:2], value_vars=ipc.columns[2:], var_name='month', value_name='ipc')"
   ]
  },
  {
   "cell_type": "code",
   "execution_count": 6,
   "metadata": {},
   "outputs": [],
   "source": [
    "# print(ipc.shape)"
   ]
  },
  {
   "cell_type": "code",
   "execution_count": 7,
   "metadata": {},
   "outputs": [],
   "source": [
    "# ipc.area.nunique()"
   ]
  },
  {
   "cell_type": "code",
   "execution_count": 8,
   "metadata": {},
   "outputs": [],
   "source": [
    "def columns_report(data: pd.DataFrame) -> None:\n",
    "\n",
    "    print('Rows:', data.shape[0], end='\\n'*2)\n",
    "\n",
    "    stats = defaultdict(list)\n",
    "    for col in data.columns:\n",
    "        stats['Column'].append(col)\n",
    "        stats['Unique'].append(data[col].nunique())\n",
    "        stats['Duplicates'].append(data[col].duplicated().sum())\n",
    "        stats['Missing'].append(data[col].isna().sum())\n",
    "        stats['Missing%'].append(data[col].isna().mean() * 100)\n",
    "        stats['HitRate%'].append((1 - data[col].isna().mean()) * 100)\n",
    "    stats = pd.DataFrame(stats)\n",
    "\n",
    "    print(stats.to_string(index=False))"
   ]
  },
  {
   "cell_type": "code",
   "execution_count": 9,
   "metadata": {},
   "outputs": [
    {
     "name": "stdout",
     "output_type": "stream",
     "text": [
      "Rows: 10170\n",
      "\n",
      "Column  Unique  Duplicates  Missing  Missing%  HitRate%\n",
      "  area      11       10159        0       0.0     100.0\n",
      "  type      11       10159        0       0.0     100.0\n",
      "   ipc     681        9489        0       0.0     100.0\n",
      "  date      94       10076        0       0.0     100.0\n"
     ]
    }
   ],
   "source": [
    "columns_report(ipc)"
   ]
  },
  {
   "cell_type": "code",
   "execution_count": 10,
   "metadata": {},
   "outputs": [],
   "source": [
    "areas = ['край', 'область', 'республика', 'округ', 'российская федерация', 'москва', 'санкт-петербург']\n",
    "stop_words = areas[:4]"
   ]
  },
  {
   "cell_type": "code",
   "execution_count": 11,
   "metadata": {},
   "outputs": [],
   "source": [
    "def rm_stop_words(s: str, stop_words=stop_words):\n",
    "    return ' '.join(w for w in s.split() if w not in stop_words)\n",
    "\n",
    "def prep_fedstat_geo(data: pd.DataFrame, subs_to_maintain: list,\n",
    "                     geo_col: str = 'area') -> pd.DataFrame:\n",
    "\n",
    "    pandarallel.initialize(progress_bar=False, nb_workers=12)\n",
    "\n",
    "    data[geo_col] = data[geo_col]\\\n",
    "        .str.strip()\\\n",
    "        .str.lower()\\\n",
    "        .str.replace(r'\\s*\\(.*\\)', '', regex=True)\\\n",
    "        .str.replace(r' - .*', '', regex=True)\n",
    "    data = data.loc[\n",
    "        data[geo_col].str.contains('|'.join(subs_to_maintain))].reset_index(drop=True)\n",
    "    data[geo_col] = data[geo_col].parallel_apply(\n",
    "        rm_stop_words)\\\n",
    "        .str.strip()\n",
    "\n",
    "    return data"
   ]
  },
  {
   "cell_type": "code",
   "execution_count": 12,
   "metadata": {},
   "outputs": [
    {
     "name": "stdout",
     "output_type": "stream",
     "text": [
      "INFO: Pandarallel will run on 12 workers.\n",
      "INFO: Pandarallel will use standard multiprocessing data transfer (pipe) to transfer data between the main process and workers.\n",
      "\n",
      "WARNING: You are on Windows. If you detect any issue with pandarallel, be sure you checked out the Troubleshooting page:\n",
      "https://nalepae.github.io/pandarallel/troubleshooting/\n"
     ]
    }
   ],
   "source": [
    "ipc = prep_fedstat_geo(ipc, areas)"
   ]
  },
  {
   "cell_type": "code",
   "execution_count": 13,
   "metadata": {},
   "outputs": [],
   "source": [
    "ipc.loc[ipc.area == 'город москва столица российской федерации город федерального значения', 'area'] = 'москва'\n",
    "ipc.loc[ipc.area == 'город санкт-петербург город федерального значения', 'area'] = 'санкт-петербург'"
   ]
  },
  {
   "cell_type": "code",
   "execution_count": 14,
   "metadata": {},
   "outputs": [
    {
     "data": {
      "text/plain": [
       "array(['бурятия', 'забайкальский', 'саха', 'камчатский', 'приморский',\n",
       "       'хабаровский', 'амурская', 'магаданская', 'сахалинская',\n",
       "       'еврейская автономная', 'чукотский автономный'], dtype=object)"
      ]
     },
     "execution_count": 14,
     "metadata": {},
     "output_type": "execute_result"
    }
   ],
   "source": [
    "ipc.area.unique()"
   ]
  },
  {
   "cell_type": "code",
   "execution_count": 15,
   "metadata": {},
   "outputs": [],
   "source": [
    "ipc['date'] = pd.to_datetime(ipc.date, yearfirst=True)"
   ]
  },
  {
   "cell_type": "code",
   "execution_count": 16,
   "metadata": {},
   "outputs": [],
   "source": [
    "ipc = pd.pivot(ipc, index=['area', 'date'], columns=['type'], values=['ipc']).reset_index().droplevel(0, axis=1)\n",
    "ipc.columns = ['area', 'date'] + ipc.columns[2:].tolist()\n",
    "ipc.sort_values(['area', 'date'], ascending=[True, True], inplace=True)"
   ]
  },
  {
   "cell_type": "code",
   "execution_count": 17,
   "metadata": {},
   "outputs": [
    {
     "name": "stdout",
     "output_type": "stream",
     "text": [
      "Rows: 1034\n",
      "\n",
      "                                                                Column  Unique  Duplicates  Missing  Missing%   HitRate%\n",
      "                                                                  area      11        1023        0  0.000000 100.000000\n",
      "                                                                  date      94         940        0  0.000000 100.000000\n",
      "                                    Базовый индекс потребительских цен     193         841        0  0.000000 100.000000\n",
      "                                                   Все товары и услуги     214         820        0  0.000000 100.000000\n",
      "                                                           Газ сетевой      24        1009      742 71.760155  28.239845\n",
      "                                           Жилищно-коммунальные услуги     176         857      242 23.404255  76.595745\n",
      "                      Жилищные услуги без аренды квартир у частных лиц     163         871        0  0.000000 100.000000\n",
      "                                         Оплата горячего водоснабжения     104         930        0  0.000000 100.000000\n",
      "Оплата жилья в домах государственного и муниципального жилищных фондов     134         900        0  0.000000 100.000000\n",
      "                        Оплата холодного водоснабжения и водоотведения     114         920        0  0.000000 100.000000\n",
      "                         Услуги организаций ЖКХ, оказываемые населению     180         854        0  0.000000 100.000000\n",
      "                                                          Услуги связи     236         797      110 10.638298  89.361702\n",
      "                                                   Услуги электросвязи     239         794      110 10.638298  89.361702\n"
     ]
    }
   ],
   "source": [
    "columns_report(ipc)"
   ]
  },
  {
   "cell_type": "code",
   "execution_count": 18,
   "metadata": {},
   "outputs": [],
   "source": [
    "ipc.drop(columns=['Газ сетевой'], inplace=True)"
   ]
  },
  {
   "cell_type": "code",
   "execution_count": 19,
   "metadata": {},
   "outputs": [
    {
     "name": "stderr",
     "output_type": "stream",
     "text": [
      "d:\\Programs\\Python\\Python311\\Lib\\site-packages\\pyarrow\\pandas_compat.py:373: FutureWarning: is_sparse is deprecated and will be removed in a future version. Check `isinstance(dtype, pd.SparseDtype)` instead.\n",
      "  if _pandas_api.is_sparse(col):\n"
     ]
    }
   ],
   "source": [
    "ipc.to_feather(data_path + 'external/ipc_preprocessed.frt')"
   ]
  },
  {
   "cell_type": "markdown",
   "metadata": {},
   "source": [
    "### Ставка ЦБ"
   ]
  },
  {
   "cell_type": "code",
   "execution_count": 35,
   "metadata": {},
   "outputs": [],
   "source": [
    "cb_rate = pd.read_feather(data_path + 'external/rate.feather')"
   ]
  },
  {
   "cell_type": "code",
   "execution_count": 36,
   "metadata": {},
   "outputs": [],
   "source": [
    "cb_rate.rename(columns={\n",
    "    'Ключевая ставка, % годовых': 'cb_rate',\n",
    "    'Дата': 'date'\n",
    "}, inplace=True)"
   ]
  },
  {
   "cell_type": "code",
   "execution_count": 37,
   "metadata": {},
   "outputs": [],
   "source": [
    "cb_rate['cb_rate'] = cb_rate.cb_rate / 100"
   ]
  },
  {
   "cell_type": "code",
   "execution_count": 39,
   "metadata": {},
   "outputs": [
    {
     "name": "stderr",
     "output_type": "stream",
     "text": [
      "d:\\Programs\\Python\\Python311\\Lib\\site-packages\\pyarrow\\pandas_compat.py:373: FutureWarning: is_sparse is deprecated and will be removed in a future version. Check `isinstance(dtype, pd.SparseDtype)` instead.\n",
      "  if _pandas_api.is_sparse(col):\n"
     ]
    }
   ],
   "source": [
    "cb_rate.to_feather(data_path + 'external/cb_rate_preprocessed.frt')"
   ]
  }
 ],
 "metadata": {
  "kernelspec": {
   "display_name": "Python 3",
   "language": "python",
   "name": "python3"
  },
  "language_info": {
   "codemirror_mode": {
    "name": "ipython",
    "version": 3
   },
   "file_extension": ".py",
   "mimetype": "text/x-python",
   "name": "python",
   "nbconvert_exporter": "python",
   "pygments_lexer": "ipython3",
   "version": "3.11.2"
  },
  "orig_nbformat": 4
 },
 "nbformat": 4,
 "nbformat_minor": 2
}
