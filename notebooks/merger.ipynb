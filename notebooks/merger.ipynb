{
 "cells": [
  {
   "cell_type": "code",
   "execution_count": 1,
   "id": "97db2598",
   "metadata": {},
   "outputs": [],
   "source": [
    "import pandas as pd\n",
    "import numpy as np\n",
    "import os"
   ]
  },
  {
   "cell_type": "code",
   "execution_count": 4,
   "id": "758f75b6",
   "metadata": {},
   "outputs": [],
   "source": [
    "path = r'./data_to_merge'"
   ]
  },
  {
   "cell_type": "code",
   "execution_count": 50,
   "id": "d651486e",
   "metadata": {},
   "outputs": [
    {
     "data": {
      "text/plain": [
       "['tr_joined_parsed',\n",
       " 'geocoder_results_new.frt',\n",
       " '.DS_Store',\n",
       " 'ks_joined_parsed',\n",
       " 'ipc_preprocessed.frt',\n",
       " 'geocoder_address_weather_results.frt',\n",
       " 'kr_joined_parsed']"
      ]
     },
     "execution_count": 50,
     "metadata": {},
     "output_type": "execute_result"
    }
   ],
   "source": [
    "os.listdir(r'./data_to_merge')"
   ]
  },
  {
   "cell_type": "code",
   "execution_count": 576,
   "id": "4c9e9259",
   "metadata": {},
   "outputs": [],
   "source": [
    "geocoder = pd.read_feather(path + '/geocoder_results_final.frt')\n",
    "weather = pd.read_feather(path + '/weather_results_final.frt')\n",
    "kr = pd.read_feather(path + r'/kr_joined_parsed (1).')\n",
    "ks = pd.read_feather(path + r'/ks_joined_parsed (1).')\n",
    "tr = pd.read_feather(path + r'/tr_joined_parsed (1).')\n",
    "ipc = pd.read_feather(path + r'/ipc_preprocessed.frt')"
   ]
  },
  {
   "cell_type": "code",
   "execution_count": 577,
   "id": "1a716d2d",
   "metadata": {},
   "outputs": [],
   "source": [
    "data_lists = pd.read_feather(path + r'/data_lists_on.feather')"
   ]
  },
  {
   "cell_type": "code",
   "execution_count": 578,
   "id": "8535b38f",
   "metadata": {},
   "outputs": [],
   "source": [
    "# geocoder = geocoder.merge(data_lists, left_on='raw_string', right_on='clean_address')\n",
    "data_lists=data_lists.merge(geocoder[['raw_string', 'geocoder_address']], right_on='raw_string', left_on='clean_address', how='left')"
   ]
  },
  {
   "cell_type": "code",
   "execution_count": 579,
   "id": "783f1e4e",
   "metadata": {},
   "outputs": [],
   "source": [
    "kr = kr.merge(geocoder, left_on='clean_address', right_on='raw_string')\n",
    "ks = ks.merge(geocoder, left_on='clean_address', right_on='raw_string')\n",
    "tr = tr.merge(geocoder, left_on='clean_address', right_on='raw_string')"
   ]
  },
  {
   "cell_type": "code",
   "execution_count": 580,
   "id": "02124d5b",
   "metadata": {},
   "outputs": [],
   "source": [
    "kr=kr.drop(columns=['raw_string_x', 'raw_string_y', 'clean_address'])\n",
    "ks=ks.drop(columns=['raw_string_x', 'raw_string_y', 'clean_address'])\n",
    "tr=tr.drop(columns=['raw_string_x', 'raw_string_y', 'clean_address'])"
   ]
  },
  {
   "cell_type": "code",
   "execution_count": 581,
   "id": "a5341bab",
   "metadata": {},
   "outputs": [],
   "source": [
    "kr=kr.rename(columns={'amount_money':'amount_money_kr'})\n",
    "ks=ks.rename(columns={'amount_money':'amount_money_ks'})\n",
    "tr=tr.rename(columns={'amount_money':'amount_money_tr'})"
   ]
  },
  {
   "cell_type": "code",
   "execution_count": 582,
   "id": "3ecd3bd2",
   "metadata": {},
   "outputs": [],
   "source": [
    "exp = pd.read_feather(path + r'/target.frt')"
   ]
  },
  {
   "cell_type": "code",
   "execution_count": 583,
   "id": "b52b4308",
   "metadata": {},
   "outputs": [],
   "source": [
    "exp = exp.rename(columns={'date':'month'})"
   ]
  },
  {
   "cell_type": "code",
   "execution_count": 584,
   "id": "da67a487",
   "metadata": {},
   "outputs": [
    {
     "name": "stdout",
     "output_type": "stream",
     "text": [
      "<class 'pandas.core.frame.DataFrame'>\n",
      "RangeIndex: 6264 entries, 0 to 6263\n",
      "Data columns (total 7 columns):\n",
      " #   Column            Non-Null Count  Dtype         \n",
      "---  ------            --------------  -----         \n",
      " 0   raw_address       6264 non-null   object        \n",
      " 1   month             6264 non-null   datetime64[ns]\n",
      " 2   paid              6264 non-null   float64       \n",
      " 3   geocoder_address  6264 non-null   object        \n",
      " 4   geocoder_lat      6264 non-null   float64       \n",
      " 5   geocoder_lon      6264 non-null   float64       \n",
      " 6   area              6264 non-null   object        \n",
      "dtypes: datetime64[ns](1), float64(3), object(3)\n",
      "memory usage: 342.7+ KB\n"
     ]
    }
   ],
   "source": [
    "exp.info()"
   ]
  },
  {
   "cell_type": "code",
   "execution_count": 585,
   "id": "29c3cf09",
   "metadata": {},
   "outputs": [],
   "source": [
    "kr['key_merge'] = kr['geocoder_address'] + kr['month'].astype(str)\n",
    "ks['key_merge'] = ks['geocoder_address'] + ks['month'].astype(str)\n",
    "tr['key_merge'] = tr['geocoder_address'] + tr['month'].astype(str)\n",
    "exp['key_merge'] = exp['geocoder_address'] + exp['month'].astype(str)"
   ]
  },
  {
   "cell_type": "code",
   "execution_count": 586,
   "id": "2f229acc",
   "metadata": {},
   "outputs": [],
   "source": [
    "kr = kr.drop_duplicates(subset=['key_merge']).reset_index(drop=True)\n",
    "ks = ks.drop_duplicates(subset=['key_merge']).reset_index(drop=True)\n",
    "tr = tr.drop_duplicates(subset=['key_merge']).reset_index(drop=True)"
   ]
  },
  {
   "cell_type": "code",
   "execution_count": 587,
   "id": "d8379ddd",
   "metadata": {
    "scrolled": false
   },
   "outputs": [],
   "source": [
    "data = exp.dropna(subset=['key_merge']).merge(kr[['amount_money_kr', 'key_merge']].dropna(subset=['key_merge']), on=['key_merge'], how='left').rename(columns={'paid':'TARGET'})"
   ]
  },
  {
   "cell_type": "code",
   "execution_count": 588,
   "id": "6d72aa2c",
   "metadata": {},
   "outputs": [],
   "source": [
    "data = data.dropna(subset=['key_merge']).merge(ks[['amount_money_ks', 'key_merge']].dropna(subset=['key_merge']), on=['key_merge'], how='left').rename(columns={'paid':'TARGET'})"
   ]
  },
  {
   "cell_type": "code",
   "execution_count": 589,
   "id": "f7842a6d",
   "metadata": {},
   "outputs": [],
   "source": [
    "data = data.dropna(subset=['key_merge']).merge(tr[['amount_money_tr', 'key_merge']].dropna(subset=['key_merge']), on=['key_merge'], how='left').rename(columns={'paid':'TARGET'})"
   ]
  },
  {
   "cell_type": "code",
   "execution_count": 590,
   "id": "f3ad1e1f",
   "metadata": {
    "scrolled": true
   },
   "outputs": [
    {
     "name": "stdout",
     "output_type": "stream",
     "text": [
      "<class 'pandas.core.frame.DataFrame'>\n",
      "Int64Index: 6264 entries, 0 to 6263\n",
      "Data columns (total 11 columns):\n",
      " #   Column            Non-Null Count  Dtype         \n",
      "---  ------            --------------  -----         \n",
      " 0   raw_address       6264 non-null   object        \n",
      " 1   month             6264 non-null   datetime64[ns]\n",
      " 2   TARGET            6264 non-null   float64       \n",
      " 3   geocoder_address  6264 non-null   object        \n",
      " 4   geocoder_lat      6264 non-null   float64       \n",
      " 5   geocoder_lon      6264 non-null   float64       \n",
      " 6   area              6264 non-null   object        \n",
      " 7   key_merge         6264 non-null   object        \n",
      " 8   amount_money_kr   499 non-null    float64       \n",
      " 9   amount_money_ks   355 non-null    float64       \n",
      " 10  amount_money_tr   1007 non-null   float64       \n",
      "dtypes: datetime64[ns](1), float64(6), object(4)\n",
      "memory usage: 587.2+ KB\n"
     ]
    }
   ],
   "source": [
    "data.info()"
   ]
  },
  {
   "cell_type": "code",
   "execution_count": 591,
   "id": "0fda7c5e",
   "metadata": {},
   "outputs": [
    {
     "data": {
      "text/plain": [
       "((6264, 11), (5423, 10))"
      ]
     },
     "execution_count": 591,
     "metadata": {},
     "output_type": "execute_result"
    }
   ],
   "source": [
    "data.shape, weather.shape"
   ]
  },
  {
   "cell_type": "code",
   "execution_count": 592,
   "id": "5a7e9624",
   "metadata": {},
   "outputs": [],
   "source": [
    "weather['key_merge'] = weather['geocoder_address'] + weather['month'].astype(str)"
   ]
  },
  {
   "cell_type": "code",
   "execution_count": 593,
   "id": "a13b5778",
   "metadata": {},
   "outputs": [
    {
     "data": {
      "text/plain": [
       "0"
      ]
     },
     "execution_count": 593,
     "metadata": {},
     "output_type": "execute_result"
    }
   ],
   "source": [
    "(weather.key_merge.duplicated()).sum()"
   ]
  },
  {
   "cell_type": "code",
   "execution_count": 594,
   "id": "c0bf5f5d",
   "metadata": {},
   "outputs": [
    {
     "data": {
      "text/plain": [
       "0"
      ]
     },
     "execution_count": 594,
     "metadata": {},
     "output_type": "execute_result"
    }
   ],
   "source": [
    "(weather.key_merge.isna()).sum()"
   ]
  },
  {
   "cell_type": "code",
   "execution_count": 595,
   "id": "745a217a",
   "metadata": {},
   "outputs": [],
   "source": [
    "data = data.merge(weather.drop(columns=['geocoder_address', 'month']), on='key_merge', how='left')"
   ]
  },
  {
   "cell_type": "code",
   "execution_count": 596,
   "id": "1be99c4e",
   "metadata": {},
   "outputs": [
    {
     "name": "stdout",
     "output_type": "stream",
     "text": [
      "<class 'pandas.core.frame.DataFrame'>\n",
      "Int64Index: 6264 entries, 0 to 6263\n",
      "Data columns (total 18 columns):\n",
      " #   Column            Non-Null Count  Dtype         \n",
      "---  ------            --------------  -----         \n",
      " 0   raw_address       6264 non-null   object        \n",
      " 1   month             6264 non-null   datetime64[ns]\n",
      " 2   TARGET            6264 non-null   float64       \n",
      " 3   geocoder_address  6264 non-null   object        \n",
      " 4   geocoder_lat      6264 non-null   float64       \n",
      " 5   geocoder_lon      6264 non-null   float64       \n",
      " 6   area              6264 non-null   object        \n",
      " 7   key_merge         6264 non-null   object        \n",
      " 8   amount_money_kr   499 non-null    float64       \n",
      " 9   amount_money_ks   355 non-null    float64       \n",
      " 10  amount_money_tr   1007 non-null   float64       \n",
      " 11  tavg              820 non-null    float64       \n",
      " 12  tmin              699 non-null    float64       \n",
      " 13  tmax              761 non-null    float64       \n",
      " 14  prcp              660 non-null    float64       \n",
      " 15  wspd              238 non-null    float64       \n",
      " 16  pres              272 non-null    float64       \n",
      " 17  tsun              181 non-null    float64       \n",
      "dtypes: datetime64[ns](1), float64(13), object(4)\n",
      "memory usage: 929.8+ KB\n"
     ]
    }
   ],
   "source": [
    "data.info()"
   ]
  },
  {
   "cell_type": "code",
   "execution_count": 597,
   "id": "b2751ffd",
   "metadata": {},
   "outputs": [
    {
     "data": {
      "text/html": [
       "<div>\n",
       "<style scoped>\n",
       "    .dataframe tbody tr th:only-of-type {\n",
       "        vertical-align: middle;\n",
       "    }\n",
       "\n",
       "    .dataframe tbody tr th {\n",
       "        vertical-align: top;\n",
       "    }\n",
       "\n",
       "    .dataframe thead th {\n",
       "        text-align: right;\n",
       "    }\n",
       "</style>\n",
       "<table border=\"1\" class=\"dataframe\">\n",
       "  <thead>\n",
       "    <tr style=\"text-align: right;\">\n",
       "      <th></th>\n",
       "      <th>tavg</th>\n",
       "      <th>tmin</th>\n",
       "      <th>tmax</th>\n",
       "      <th>prcp</th>\n",
       "      <th>wspd</th>\n",
       "      <th>pres</th>\n",
       "      <th>tsun</th>\n",
       "      <th>geocoder_address</th>\n",
       "      <th>month</th>\n",
       "      <th>key_merge</th>\n",
       "    </tr>\n",
       "  </thead>\n",
       "  <tbody>\n",
       "    <tr>\n",
       "      <th>0</th>\n",
       "      <td>-2.2</td>\n",
       "      <td>-5.7</td>\n",
       "      <td>1.7</td>\n",
       "      <td>48.1</td>\n",
       "      <td>NaN</td>\n",
       "      <td>NaN</td>\n",
       "      <td>NaN</td>\n",
       "      <td>Россия, Приморский край, Уссурийск, улица Некр...</td>\n",
       "      <td>2016-01-01</td>\n",
       "      <td>Россия, Приморский край, Уссурийск, улица Некр...</td>\n",
       "    </tr>\n",
       "    <tr>\n",
       "      <th>1</th>\n",
       "      <td>3.4</td>\n",
       "      <td>NaN</td>\n",
       "      <td>NaN</td>\n",
       "      <td>NaN</td>\n",
       "      <td>NaN</td>\n",
       "      <td>NaN</td>\n",
       "      <td>NaN</td>\n",
       "      <td>Россия, Приморский край, Уссурийск, улица Некр...</td>\n",
       "      <td>2016-02-01</td>\n",
       "      <td>Россия, Приморский край, Уссурийск, улица Некр...</td>\n",
       "    </tr>\n",
       "    <tr>\n",
       "      <th>2</th>\n",
       "      <td>5.3</td>\n",
       "      <td>NaN</td>\n",
       "      <td>NaN</td>\n",
       "      <td>NaN</td>\n",
       "      <td>NaN</td>\n",
       "      <td>NaN</td>\n",
       "      <td>NaN</td>\n",
       "      <td>Россия, Приморский край, Уссурийск, улица Некр...</td>\n",
       "      <td>2016-03-01</td>\n",
       "      <td>Россия, Приморский край, Уссурийск, улица Некр...</td>\n",
       "    </tr>\n",
       "    <tr>\n",
       "      <th>3</th>\n",
       "      <td>12.7</td>\n",
       "      <td>NaN</td>\n",
       "      <td>NaN</td>\n",
       "      <td>NaN</td>\n",
       "      <td>NaN</td>\n",
       "      <td>NaN</td>\n",
       "      <td>NaN</td>\n",
       "      <td>Россия, Приморский край, Уссурийск, улица Некр...</td>\n",
       "      <td>2016-04-01</td>\n",
       "      <td>Россия, Приморский край, Уссурийск, улица Некр...</td>\n",
       "    </tr>\n",
       "    <tr>\n",
       "      <th>4</th>\n",
       "      <td>15.8</td>\n",
       "      <td>NaN</td>\n",
       "      <td>NaN</td>\n",
       "      <td>NaN</td>\n",
       "      <td>NaN</td>\n",
       "      <td>NaN</td>\n",
       "      <td>NaN</td>\n",
       "      <td>Россия, Приморский край, Уссурийск, улица Некр...</td>\n",
       "      <td>2016-05-01</td>\n",
       "      <td>Россия, Приморский край, Уссурийск, улица Некр...</td>\n",
       "    </tr>\n",
       "    <tr>\n",
       "      <th>...</th>\n",
       "      <td>...</td>\n",
       "      <td>...</td>\n",
       "      <td>...</td>\n",
       "      <td>...</td>\n",
       "      <td>...</td>\n",
       "      <td>...</td>\n",
       "      <td>...</td>\n",
       "      <td>...</td>\n",
       "      <td>...</td>\n",
       "      <td>...</td>\n",
       "    </tr>\n",
       "    <tr>\n",
       "      <th>5418</th>\n",
       "      <td>20.7</td>\n",
       "      <td>12.9</td>\n",
       "      <td>27.1</td>\n",
       "      <td>62.9</td>\n",
       "      <td>15.3</td>\n",
       "      <td>1011.1</td>\n",
       "      <td>NaN</td>\n",
       "      <td>Россия, Хабаровский край, Верхнебуреинский рай...</td>\n",
       "      <td>2023-06-01</td>\n",
       "      <td>Россия, Хабаровский край, Верхнебуреинский рай...</td>\n",
       "    </tr>\n",
       "    <tr>\n",
       "      <th>5419</th>\n",
       "      <td>23.9</td>\n",
       "      <td>16.9</td>\n",
       "      <td>30.0</td>\n",
       "      <td>112.3</td>\n",
       "      <td>12.7</td>\n",
       "      <td>1007.4</td>\n",
       "      <td>NaN</td>\n",
       "      <td>Россия, Хабаровский край, Верхнебуреинский рай...</td>\n",
       "      <td>2023-07-01</td>\n",
       "      <td>Россия, Хабаровский край, Верхнебуреинский рай...</td>\n",
       "    </tr>\n",
       "    <tr>\n",
       "      <th>5420</th>\n",
       "      <td>22.8</td>\n",
       "      <td>14.6</td>\n",
       "      <td>29.9</td>\n",
       "      <td>11.1</td>\n",
       "      <td>12.8</td>\n",
       "      <td>1012.2</td>\n",
       "      <td>NaN</td>\n",
       "      <td>Россия, Хабаровский край, Верхнебуреинский рай...</td>\n",
       "      <td>2023-08-01</td>\n",
       "      <td>Россия, Хабаровский край, Верхнебуреинский рай...</td>\n",
       "    </tr>\n",
       "    <tr>\n",
       "      <th>5421</th>\n",
       "      <td>15.4</td>\n",
       "      <td>7.7</td>\n",
       "      <td>22.9</td>\n",
       "      <td>13.2</td>\n",
       "      <td>9.0</td>\n",
       "      <td>1019.7</td>\n",
       "      <td>NaN</td>\n",
       "      <td>Россия, Хабаровский край, Верхнебуреинский рай...</td>\n",
       "      <td>2023-09-01</td>\n",
       "      <td>Россия, Хабаровский край, Верхнебуреинский рай...</td>\n",
       "    </tr>\n",
       "    <tr>\n",
       "      <th>5422</th>\n",
       "      <td>7.5</td>\n",
       "      <td>2.7</td>\n",
       "      <td>12.7</td>\n",
       "      <td>61.6</td>\n",
       "      <td>18.7</td>\n",
       "      <td>1014.1</td>\n",
       "      <td>NaN</td>\n",
       "      <td>Россия, Хабаровский край, Верхнебуреинский рай...</td>\n",
       "      <td>2023-10-01</td>\n",
       "      <td>Россия, Хабаровский край, Верхнебуреинский рай...</td>\n",
       "    </tr>\n",
       "  </tbody>\n",
       "</table>\n",
       "<p>5423 rows × 10 columns</p>\n",
       "</div>"
      ],
      "text/plain": [
       "      tavg  tmin  tmax   prcp  wspd    pres  tsun  \\\n",
       "0     -2.2  -5.7   1.7   48.1   NaN     NaN   NaN   \n",
       "1      3.4   NaN   NaN    NaN   NaN     NaN   NaN   \n",
       "2      5.3   NaN   NaN    NaN   NaN     NaN   NaN   \n",
       "3     12.7   NaN   NaN    NaN   NaN     NaN   NaN   \n",
       "4     15.8   NaN   NaN    NaN   NaN     NaN   NaN   \n",
       "...    ...   ...   ...    ...   ...     ...   ...   \n",
       "5418  20.7  12.9  27.1   62.9  15.3  1011.1   NaN   \n",
       "5419  23.9  16.9  30.0  112.3  12.7  1007.4   NaN   \n",
       "5420  22.8  14.6  29.9   11.1  12.8  1012.2   NaN   \n",
       "5421  15.4   7.7  22.9   13.2   9.0  1019.7   NaN   \n",
       "5422   7.5   2.7  12.7   61.6  18.7  1014.1   NaN   \n",
       "\n",
       "                                       geocoder_address      month  \\\n",
       "0     Россия, Приморский край, Уссурийск, улица Некр... 2016-01-01   \n",
       "1     Россия, Приморский край, Уссурийск, улица Некр... 2016-02-01   \n",
       "2     Россия, Приморский край, Уссурийск, улица Некр... 2016-03-01   \n",
       "3     Россия, Приморский край, Уссурийск, улица Некр... 2016-04-01   \n",
       "4     Россия, Приморский край, Уссурийск, улица Некр... 2016-05-01   \n",
       "...                                                 ...        ...   \n",
       "5418  Россия, Хабаровский край, Верхнебуреинский рай... 2023-06-01   \n",
       "5419  Россия, Хабаровский край, Верхнебуреинский рай... 2023-07-01   \n",
       "5420  Россия, Хабаровский край, Верхнебуреинский рай... 2023-08-01   \n",
       "5421  Россия, Хабаровский край, Верхнебуреинский рай... 2023-09-01   \n",
       "5422  Россия, Хабаровский край, Верхнебуреинский рай... 2023-10-01   \n",
       "\n",
       "                                              key_merge  \n",
       "0     Россия, Приморский край, Уссурийск, улица Некр...  \n",
       "1     Россия, Приморский край, Уссурийск, улица Некр...  \n",
       "2     Россия, Приморский край, Уссурийск, улица Некр...  \n",
       "3     Россия, Приморский край, Уссурийск, улица Некр...  \n",
       "4     Россия, Приморский край, Уссурийск, улица Некр...  \n",
       "...                                                 ...  \n",
       "5418  Россия, Хабаровский край, Верхнебуреинский рай...  \n",
       "5419  Россия, Хабаровский край, Верхнебуреинский рай...  \n",
       "5420  Россия, Хабаровский край, Верхнебуреинский рай...  \n",
       "5421  Россия, Хабаровский край, Верхнебуреинский рай...  \n",
       "5422  Россия, Хабаровский край, Верхнебуреинский рай...  \n",
       "\n",
       "[5423 rows x 10 columns]"
      ]
     },
     "execution_count": 597,
     "metadata": {},
     "output_type": "execute_result"
    }
   ],
   "source": [
    "weather"
   ]
  },
  {
   "cell_type": "code",
   "execution_count": 598,
   "id": "6c294b01",
   "metadata": {},
   "outputs": [],
   "source": [
    "data[['amount_money_kr','amount_money_ks','amount_money_tr']] = data[['amount_money_kr','amount_money_ks','amount_money_tr']].fillna(0)"
   ]
  },
  {
   "cell_type": "code",
   "execution_count": 599,
   "id": "73f1196a",
   "metadata": {},
   "outputs": [],
   "source": [
    "data = data.merge(data_lists.drop_duplicates(subset=['geocoder_address'], keep='first'), on='geocoder_address', how='left')"
   ]
  },
  {
   "cell_type": "code",
   "execution_count": 603,
   "id": "6dee4fb3",
   "metadata": {},
   "outputs": [],
   "source": [
    "data=data.drop(columns=['raw_address'])"
   ]
  },
  {
   "cell_type": "code",
   "execution_count": 604,
   "id": "272dc24d",
   "metadata": {},
   "outputs": [],
   "source": [
    "data.to_feather(r'./data_with_target.frt')"
   ]
  },
  {
   "cell_type": "code",
   "execution_count": 606,
   "id": "b7304f45",
   "metadata": {},
   "outputs": [
    {
     "data": {
      "text/plain": [
       "Index(['month', 'TARGET', 'geocoder_address', 'geocoder_lat', 'geocoder_lon',\n",
       "       'area', 'key_merge', 'amount_money_kr', 'amount_money_ks',\n",
       "       'amount_money_tr', 'tavg', 'tmin', 'tmax', 'prcp', 'wspd', 'pres',\n",
       "       'tsun', 'Unnamed: 0', 'Наименование, адрес, реестровый номер объекта',\n",
       "       'Год постройки', 'Дата принятия на баланс Банка России',\n",
       "       'Площадь объекта недвижимости \\nкв. м', 'Занято службами Банка России',\n",
       "       'Не занято (не исполь\\nзуется)', 'Сдается Банком России в аренду',\n",
       "       'Аренду\\nется Банком России',\n",
       "       'Передано Банку России по договору безвозмездного пользо-вания',\n",
       "       'Передано в субаренду', 'Балансовая стоимость, руб.',\n",
       "       'в том числе переоценка, руб.', 'Сумма начисленной амортизации, руб.',\n",
       "       'Остаточная стоимость, руб.', 'Техническое состояние',\n",
       "       'ГЕОГРАФИЧЕСКОЕ НАЗВАНИЕ', 'ПУТЬ', 'ВОЗРАСТ ЗДАНИЯ', 'ГОД', 'КВАРТАЛ',\n",
       "       'clean_address', 'code', 'raw_string'],\n",
       "      dtype='object')"
      ]
     },
     "execution_count": 606,
     "metadata": {},
     "output_type": "execute_result"
    }
   ],
   "source": [
    "data.columns"
   ]
  },
  {
   "cell_type": "code",
   "execution_count": 607,
   "id": "d12ee426",
   "metadata": {},
   "outputs": [],
   "source": [
    "test_data = pd.read_csv(path + r'/test_data.csv')"
   ]
  },
  {
   "cell_type": "code",
   "execution_count": 608,
   "id": "b1ef61da",
   "metadata": {},
   "outputs": [
    {
     "data": {
      "text/html": [
       "<div>\n",
       "<style scoped>\n",
       "    .dataframe tbody tr th:only-of-type {\n",
       "        vertical-align: middle;\n",
       "    }\n",
       "\n",
       "    .dataframe tbody tr th {\n",
       "        vertical-align: top;\n",
       "    }\n",
       "\n",
       "    .dataframe thead th {\n",
       "        text-align: right;\n",
       "    }\n",
       "</style>\n",
       "<table border=\"1\" class=\"dataframe\">\n",
       "  <thead>\n",
       "    <tr style=\"text-align: right;\">\n",
       "      <th></th>\n",
       "      <th>Наименование вида расходов</th>\n",
       "      <th>Направление расходов</th>\n",
       "      <th>Дата платежа</th>\n",
       "      <th>Отнесено</th>\n",
       "    </tr>\n",
       "  </thead>\n",
       "  <tbody>\n",
       "    <tr>\n",
       "      <th>0</th>\n",
       "      <td>Электроэнергия</td>\n",
       "      <td>134.1000.01 ДГУ. Оплата за электроэнергию по т...</td>\n",
       "      <td>03 2022</td>\n",
       "      <td>NaN</td>\n",
       "    </tr>\n",
       "    <tr>\n",
       "      <th>1</th>\n",
       "      <td>Электроэнергия</td>\n",
       "      <td>134.1000.01 ДГУ. Оплата за электроэнергию по т...</td>\n",
       "      <td>04 2022</td>\n",
       "      <td>NaN</td>\n",
       "    </tr>\n",
       "    <tr>\n",
       "      <th>2</th>\n",
       "      <td>Электроэнергия</td>\n",
       "      <td>134.1000.01 ДГУ. Оплата за электроэнергию по т...</td>\n",
       "      <td>05 2022</td>\n",
       "      <td>NaN</td>\n",
       "    </tr>\n",
       "    <tr>\n",
       "      <th>3</th>\n",
       "      <td>Электроэнергия</td>\n",
       "      <td>134.1000.01 ДГУ. Оплата за электроэнергию по т...</td>\n",
       "      <td>06 2022</td>\n",
       "      <td>NaN</td>\n",
       "    </tr>\n",
       "    <tr>\n",
       "      <th>4</th>\n",
       "      <td>Электроэнергия</td>\n",
       "      <td>134.1000.01 ДГУ. Оплата за электроэнергию по т...</td>\n",
       "      <td>07 2022</td>\n",
       "      <td>NaN</td>\n",
       "    </tr>\n",
       "    <tr>\n",
       "      <th>...</th>\n",
       "      <td>...</td>\n",
       "      <td>...</td>\n",
       "      <td>...</td>\n",
       "      <td>...</td>\n",
       "    </tr>\n",
       "    <tr>\n",
       "      <th>4507</th>\n",
       "      <td>Коммунальные услуги (расходы прошлых лет)</td>\n",
       "      <td>134.1000.05 Якутия Оплата потребления газа ул....</td>\n",
       "      <td>01 2023</td>\n",
       "      <td>NaN</td>\n",
       "    </tr>\n",
       "    <tr>\n",
       "      <th>4508</th>\n",
       "      <td>Коммунальные услуги (расходы прошлых лет)</td>\n",
       "      <td>134.1000.05 Якутия Оплата потребления газа ул....</td>\n",
       "      <td>01 2023</td>\n",
       "      <td>NaN</td>\n",
       "    </tr>\n",
       "    <tr>\n",
       "      <th>4509</th>\n",
       "      <td>Коммунальные услуги (расходы прошлых лет)</td>\n",
       "      <td>134.1000.05 Якутия Оплата потребления газа ул....</td>\n",
       "      <td>01 2023</td>\n",
       "      <td>NaN</td>\n",
       "    </tr>\n",
       "    <tr>\n",
       "      <th>4510</th>\n",
       "      <td>Коммунальные услуги (расходы прошлых лет)</td>\n",
       "      <td>134.1000.05 Якутия Оплата потребления газа ул....</td>\n",
       "      <td>01 2023</td>\n",
       "      <td>NaN</td>\n",
       "    </tr>\n",
       "    <tr>\n",
       "      <th>4511</th>\n",
       "      <td>Коммунальные услуги (расходы прошлых лет)</td>\n",
       "      <td>134.1000.05 Якутия Оплата потребления газа ул....</td>\n",
       "      <td>02 2023</td>\n",
       "      <td>NaN</td>\n",
       "    </tr>\n",
       "  </tbody>\n",
       "</table>\n",
       "<p>4512 rows × 4 columns</p>\n",
       "</div>"
      ],
      "text/plain": [
       "                     Наименование вида расходов  \\\n",
       "0                                Электроэнергия   \n",
       "1                                Электроэнергия   \n",
       "2                                Электроэнергия   \n",
       "3                                Электроэнергия   \n",
       "4                                Электроэнергия   \n",
       "...                                         ...   \n",
       "4507  Коммунальные услуги (расходы прошлых лет)   \n",
       "4508  Коммунальные услуги (расходы прошлых лет)   \n",
       "4509  Коммунальные услуги (расходы прошлых лет)   \n",
       "4510  Коммунальные услуги (расходы прошлых лет)   \n",
       "4511  Коммунальные услуги (расходы прошлых лет)   \n",
       "\n",
       "                                   Направление расходов Дата платежа  Отнесено  \n",
       "0     134.1000.01 ДГУ. Оплата за электроэнергию по т...      03 2022       NaN  \n",
       "1     134.1000.01 ДГУ. Оплата за электроэнергию по т...      04 2022       NaN  \n",
       "2     134.1000.01 ДГУ. Оплата за электроэнергию по т...      05 2022       NaN  \n",
       "3     134.1000.01 ДГУ. Оплата за электроэнергию по т...      06 2022       NaN  \n",
       "4     134.1000.01 ДГУ. Оплата за электроэнергию по т...      07 2022       NaN  \n",
       "...                                                 ...          ...       ...  \n",
       "4507  134.1000.05 Якутия Оплата потребления газа ул....      01 2023       NaN  \n",
       "4508  134.1000.05 Якутия Оплата потребления газа ул....      01 2023       NaN  \n",
       "4509  134.1000.05 Якутия Оплата потребления газа ул....      01 2023       NaN  \n",
       "4510  134.1000.05 Якутия Оплата потребления газа ул....      01 2023       NaN  \n",
       "4511  134.1000.05 Якутия Оплата потребления газа ул....      02 2023       NaN  \n",
       "\n",
       "[4512 rows x 4 columns]"
      ]
     },
     "execution_count": 608,
     "metadata": {},
     "output_type": "execute_result"
    }
   ],
   "source": [
    "test_data"
   ]
  },
  {
   "cell_type": "code",
   "execution_count": 622,
   "id": "1c34d47d",
   "metadata": {},
   "outputs": [],
   "source": [
    "def extract_string_for_search(s):\n",
    "    \"\"\"\n",
    "    Извлекает подстроку, которая начинается\n",
    "    с 'г.' или 'город'\n",
    "    \"\"\"\n",
    "    city = re.search(\"(г\\.|город ).*\", s)\n",
    "\n",
    "    if city is not None:\n",
    "        start, end = city.span()\n",
    "        return s[start:end]\n",
    "\n",
    "    return s"
   ]
  },
  {
   "cell_type": "code",
   "execution_count": 623,
   "id": "33214247",
   "metadata": {},
   "outputs": [],
   "source": [
    "import re"
   ]
  },
  {
   "cell_type": "code",
   "execution_count": 624,
   "id": "bf0366d4",
   "metadata": {},
   "outputs": [
    {
     "data": {
      "text/plain": [
       "0       134.1000.01 ДГУ. Оплата за электроэнергию по т...\n",
       "1       134.1000.01 ДГУ. Оплата за электроэнергию по т...\n",
       "2       134.1000.01 ДГУ. Оплата за электроэнергию по т...\n",
       "3       134.1000.01 ДГУ. Оплата за электроэнергию по т...\n",
       "4       134.1000.01 ДГУ. Оплата за электроэнергию по т...\n",
       "                              ...                        \n",
       "4507    134.1000.05 Якутия Оплата потребления газа ул....\n",
       "4508    134.1000.05 Якутия Оплата потребления газа ул....\n",
       "4509    134.1000.05 Якутия Оплата потребления газа ул....\n",
       "4510    134.1000.05 Якутия Оплата потребления газа ул....\n",
       "4511    134.1000.05 Якутия Оплата потребления газа ул....\n",
       "Name: Направление расходов, Length: 4512, dtype: object"
      ]
     },
     "execution_count": 624,
     "metadata": {},
     "output_type": "execute_result"
    }
   ],
   "source": [
    "test_data['Направление расходов'].apply(extract_string_for_search)"
   ]
  },
  {
   "cell_type": "code",
   "execution_count": 625,
   "id": "cb05d3ef",
   "metadata": {},
   "outputs": [],
   "source": [
    "def add_string_col_to_df(df, raw_string_column=\"raw_string\", result_column=\"clean_address\"):\n",
    "    \"\"\"\n",
    "    Применяет extract_string_for_search к столбцу df[raw_string_column]\n",
    "    и сохраняет результат в df[result_column]\n",
    "    \"\"\"\n",
    "    df[result_column] = df[raw_string_column].apply(extract_string_for_search)\n",
    "    return df"
   ]
  },
  {
   "cell_type": "code",
   "execution_count": 626,
   "id": "86be0536",
   "metadata": {},
   "outputs": [
    {
     "data": {
      "text/html": [
       "<div>\n",
       "<style scoped>\n",
       "    .dataframe tbody tr th:only-of-type {\n",
       "        vertical-align: middle;\n",
       "    }\n",
       "\n",
       "    .dataframe tbody tr th {\n",
       "        vertical-align: top;\n",
       "    }\n",
       "\n",
       "    .dataframe thead th {\n",
       "        text-align: right;\n",
       "    }\n",
       "</style>\n",
       "<table border=\"1\" class=\"dataframe\">\n",
       "  <thead>\n",
       "    <tr style=\"text-align: right;\">\n",
       "      <th></th>\n",
       "      <th>Наименование вида расходов</th>\n",
       "      <th>Направление расходов</th>\n",
       "      <th>Дата платежа</th>\n",
       "      <th>Отнесено</th>\n",
       "      <th>clean_address</th>\n",
       "    </tr>\n",
       "  </thead>\n",
       "  <tbody>\n",
       "    <tr>\n",
       "      <th>0</th>\n",
       "      <td>Электроэнергия</td>\n",
       "      <td>134.1000.01 ДГУ. Оплата за электроэнергию по т...</td>\n",
       "      <td>03 2022</td>\n",
       "      <td>NaN</td>\n",
       "      <td>134.1000.01 ДГУ. Оплата за электроэнергию по т...</td>\n",
       "    </tr>\n",
       "    <tr>\n",
       "      <th>1</th>\n",
       "      <td>Электроэнергия</td>\n",
       "      <td>134.1000.01 ДГУ. Оплата за электроэнергию по т...</td>\n",
       "      <td>04 2022</td>\n",
       "      <td>NaN</td>\n",
       "      <td>134.1000.01 ДГУ. Оплата за электроэнергию по т...</td>\n",
       "    </tr>\n",
       "    <tr>\n",
       "      <th>2</th>\n",
       "      <td>Электроэнергия</td>\n",
       "      <td>134.1000.01 ДГУ. Оплата за электроэнергию по т...</td>\n",
       "      <td>05 2022</td>\n",
       "      <td>NaN</td>\n",
       "      <td>134.1000.01 ДГУ. Оплата за электроэнергию по т...</td>\n",
       "    </tr>\n",
       "    <tr>\n",
       "      <th>3</th>\n",
       "      <td>Электроэнергия</td>\n",
       "      <td>134.1000.01 ДГУ. Оплата за электроэнергию по т...</td>\n",
       "      <td>06 2022</td>\n",
       "      <td>NaN</td>\n",
       "      <td>134.1000.01 ДГУ. Оплата за электроэнергию по т...</td>\n",
       "    </tr>\n",
       "    <tr>\n",
       "      <th>4</th>\n",
       "      <td>Электроэнергия</td>\n",
       "      <td>134.1000.01 ДГУ. Оплата за электроэнергию по т...</td>\n",
       "      <td>07 2022</td>\n",
       "      <td>NaN</td>\n",
       "      <td>134.1000.01 ДГУ. Оплата за электроэнергию по т...</td>\n",
       "    </tr>\n",
       "    <tr>\n",
       "      <th>...</th>\n",
       "      <td>...</td>\n",
       "      <td>...</td>\n",
       "      <td>...</td>\n",
       "      <td>...</td>\n",
       "      <td>...</td>\n",
       "    </tr>\n",
       "    <tr>\n",
       "      <th>4507</th>\n",
       "      <td>Коммунальные услуги (расходы прошлых лет)</td>\n",
       "      <td>134.1000.05 Якутия Оплата потребления газа ул....</td>\n",
       "      <td>01 2023</td>\n",
       "      <td>NaN</td>\n",
       "      <td>134.1000.05 Якутия Оплата потребления газа ул....</td>\n",
       "    </tr>\n",
       "    <tr>\n",
       "      <th>4508</th>\n",
       "      <td>Коммунальные услуги (расходы прошлых лет)</td>\n",
       "      <td>134.1000.05 Якутия Оплата потребления газа ул....</td>\n",
       "      <td>01 2023</td>\n",
       "      <td>NaN</td>\n",
       "      <td>134.1000.05 Якутия Оплата потребления газа ул....</td>\n",
       "    </tr>\n",
       "    <tr>\n",
       "      <th>4509</th>\n",
       "      <td>Коммунальные услуги (расходы прошлых лет)</td>\n",
       "      <td>134.1000.05 Якутия Оплата потребления газа ул....</td>\n",
       "      <td>01 2023</td>\n",
       "      <td>NaN</td>\n",
       "      <td>134.1000.05 Якутия Оплата потребления газа ул....</td>\n",
       "    </tr>\n",
       "    <tr>\n",
       "      <th>4510</th>\n",
       "      <td>Коммунальные услуги (расходы прошлых лет)</td>\n",
       "      <td>134.1000.05 Якутия Оплата потребления газа ул....</td>\n",
       "      <td>01 2023</td>\n",
       "      <td>NaN</td>\n",
       "      <td>134.1000.05 Якутия Оплата потребления газа ул....</td>\n",
       "    </tr>\n",
       "    <tr>\n",
       "      <th>4511</th>\n",
       "      <td>Коммунальные услуги (расходы прошлых лет)</td>\n",
       "      <td>134.1000.05 Якутия Оплата потребления газа ул....</td>\n",
       "      <td>02 2023</td>\n",
       "      <td>NaN</td>\n",
       "      <td>134.1000.05 Якутия Оплата потребления газа ул....</td>\n",
       "    </tr>\n",
       "  </tbody>\n",
       "</table>\n",
       "<p>4512 rows × 5 columns</p>\n",
       "</div>"
      ],
      "text/plain": [
       "                     Наименование вида расходов  \\\n",
       "0                                Электроэнергия   \n",
       "1                                Электроэнергия   \n",
       "2                                Электроэнергия   \n",
       "3                                Электроэнергия   \n",
       "4                                Электроэнергия   \n",
       "...                                         ...   \n",
       "4507  Коммунальные услуги (расходы прошлых лет)   \n",
       "4508  Коммунальные услуги (расходы прошлых лет)   \n",
       "4509  Коммунальные услуги (расходы прошлых лет)   \n",
       "4510  Коммунальные услуги (расходы прошлых лет)   \n",
       "4511  Коммунальные услуги (расходы прошлых лет)   \n",
       "\n",
       "                                   Направление расходов Дата платежа  \\\n",
       "0     134.1000.01 ДГУ. Оплата за электроэнергию по т...      03 2022   \n",
       "1     134.1000.01 ДГУ. Оплата за электроэнергию по т...      04 2022   \n",
       "2     134.1000.01 ДГУ. Оплата за электроэнергию по т...      05 2022   \n",
       "3     134.1000.01 ДГУ. Оплата за электроэнергию по т...      06 2022   \n",
       "4     134.1000.01 ДГУ. Оплата за электроэнергию по т...      07 2022   \n",
       "...                                                 ...          ...   \n",
       "4507  134.1000.05 Якутия Оплата потребления газа ул....      01 2023   \n",
       "4508  134.1000.05 Якутия Оплата потребления газа ул....      01 2023   \n",
       "4509  134.1000.05 Якутия Оплата потребления газа ул....      01 2023   \n",
       "4510  134.1000.05 Якутия Оплата потребления газа ул....      01 2023   \n",
       "4511  134.1000.05 Якутия Оплата потребления газа ул....      02 2023   \n",
       "\n",
       "      Отнесено                                      clean_address  \n",
       "0          NaN  134.1000.01 ДГУ. Оплата за электроэнергию по т...  \n",
       "1          NaN  134.1000.01 ДГУ. Оплата за электроэнергию по т...  \n",
       "2          NaN  134.1000.01 ДГУ. Оплата за электроэнергию по т...  \n",
       "3          NaN  134.1000.01 ДГУ. Оплата за электроэнергию по т...  \n",
       "4          NaN  134.1000.01 ДГУ. Оплата за электроэнергию по т...  \n",
       "...        ...                                                ...  \n",
       "4507       NaN  134.1000.05 Якутия Оплата потребления газа ул....  \n",
       "4508       NaN  134.1000.05 Якутия Оплата потребления газа ул....  \n",
       "4509       NaN  134.1000.05 Якутия Оплата потребления газа ул....  \n",
       "4510       NaN  134.1000.05 Якутия Оплата потребления газа ул....  \n",
       "4511       NaN  134.1000.05 Якутия Оплата потребления газа ул....  \n",
       "\n",
       "[4512 rows x 5 columns]"
      ]
     },
     "execution_count": 626,
     "metadata": {},
     "output_type": "execute_result"
    }
   ],
   "source": [
    "add_string_col_to_df(test_data, raw_string_column='Направление расходов')"
   ]
  },
  {
   "cell_type": "code",
   "execution_count": 627,
   "id": "15c74513",
   "metadata": {},
   "outputs": [
    {
     "data": {
      "text/html": [
       "<div>\n",
       "<style scoped>\n",
       "    .dataframe tbody tr th:only-of-type {\n",
       "        vertical-align: middle;\n",
       "    }\n",
       "\n",
       "    .dataframe tbody tr th {\n",
       "        vertical-align: top;\n",
       "    }\n",
       "\n",
       "    .dataframe thead th {\n",
       "        text-align: right;\n",
       "    }\n",
       "</style>\n",
       "<table border=\"1\" class=\"dataframe\">\n",
       "  <thead>\n",
       "    <tr style=\"text-align: right;\">\n",
       "      <th></th>\n",
       "      <th>geocoder_address</th>\n",
       "      <th>geocoder_lat</th>\n",
       "      <th>geocoder_lon</th>\n",
       "      <th>raw_string</th>\n",
       "    </tr>\n",
       "  </thead>\n",
       "  <tbody>\n",
       "    <tr>\n",
       "      <th>0</th>\n",
       "      <td>None</td>\n",
       "      <td>NaN</td>\n",
       "      <td>NaN</td>\n",
       "      <td></td>\n",
       "    </tr>\n",
       "    <tr>\n",
       "      <th>1</th>\n",
       "      <td>Россия, Еврейская автономная область, Биробидж...</td>\n",
       "      <td>48.789445</td>\n",
       "      <td>132.928222</td>\n",
       "      <td>\"Город Биробиджа\",  город Биробиджан,  проспек...</td>\n",
       "    </tr>\n",
       "    <tr>\n",
       "      <th>2</th>\n",
       "      <td>None</td>\n",
       "      <td>NaN</td>\n",
       "      <td>NaN</td>\n",
       "      <td>6. Наружное освещение сан. зоны санатория \"им....</td>\n",
       "    </tr>\n",
       "    <tr>\n",
       "      <th>3</th>\n",
       "      <td>Россия, Приморский край, Уссурийск, улица Некр...</td>\n",
       "      <td>43.805100</td>\n",
       "      <td>131.950262</td>\n",
       "      <td>г. Уссурийск, ул. Некрасова, д. 102</td>\n",
       "    </tr>\n",
       "    <tr>\n",
       "      <th>4</th>\n",
       "      <td>Россия, Хабаровский край, Советская Гавань, Со...</td>\n",
       "      <td>48.965926</td>\n",
       "      <td>140.281571</td>\n",
       "      <td>г. Советская Гавань,  ул. Советская,  26</td>\n",
       "    </tr>\n",
       "    <tr>\n",
       "      <th>...</th>\n",
       "      <td>...</td>\n",
       "      <td>...</td>\n",
       "      <td>...</td>\n",
       "      <td>...</td>\n",
       "    </tr>\n",
       "    <tr>\n",
       "      <th>1770</th>\n",
       "      <td>Россия, Еврейская автономная область, Биробидж...</td>\n",
       "      <td>48.789445</td>\n",
       "      <td>132.928222</td>\n",
       "      <td>г Биробиджан,  пр-кт 60-летия СССР,  д 5</td>\n",
       "    </tr>\n",
       "    <tr>\n",
       "      <th>1771</th>\n",
       "      <td>Россия, Камчатский край, Петропавловск-Камчатс...</td>\n",
       "      <td>53.068444</td>\n",
       "      <td>158.628735</td>\n",
       "      <td>г. Петропавловск-Камчатский,  ул. Ломоносова,...</td>\n",
       "    </tr>\n",
       "    <tr>\n",
       "      <th>1772</th>\n",
       "      <td>Россия, Сахалинская область, Южно-Сахалинск, К...</td>\n",
       "      <td>46.958281</td>\n",
       "      <td>142.732004</td>\n",
       "      <td>г. Южно-Сахалинск, Коммунистический проспект, ...</td>\n",
       "    </tr>\n",
       "    <tr>\n",
       "      <th>1773</th>\n",
       "      <td>Россия, Чукотский автономный округ, городской ...</td>\n",
       "      <td>64.725052</td>\n",
       "      <td>177.525974</td>\n",
       "      <td>ул колхозная 30б</td>\n",
       "    </tr>\n",
       "    <tr>\n",
       "      <th>1774</th>\n",
       "      <td>Россия, Республика Саха (Якутия), муниципальны...</td>\n",
       "      <td>61.996379</td>\n",
       "      <td>132.445333</td>\n",
       "      <td>с чурапча ул ленина д 37</td>\n",
       "    </tr>\n",
       "  </tbody>\n",
       "</table>\n",
       "<p>1775 rows × 4 columns</p>\n",
       "</div>"
      ],
      "text/plain": [
       "                                       geocoder_address  geocoder_lat  \\\n",
       "0                                                  None           NaN   \n",
       "1     Россия, Еврейская автономная область, Биробидж...     48.789445   \n",
       "2                                                  None           NaN   \n",
       "3     Россия, Приморский край, Уссурийск, улица Некр...     43.805100   \n",
       "4     Россия, Хабаровский край, Советская Гавань, Со...     48.965926   \n",
       "...                                                 ...           ...   \n",
       "1770  Россия, Еврейская автономная область, Биробидж...     48.789445   \n",
       "1771  Россия, Камчатский край, Петропавловск-Камчатс...     53.068444   \n",
       "1772  Россия, Сахалинская область, Южно-Сахалинск, К...     46.958281   \n",
       "1773  Россия, Чукотский автономный округ, городской ...     64.725052   \n",
       "1774  Россия, Республика Саха (Якутия), муниципальны...     61.996379   \n",
       "\n",
       "      geocoder_lon                                         raw_string  \n",
       "0              NaN                                                     \n",
       "1       132.928222  \"Город Биробиджа\",  город Биробиджан,  проспек...  \n",
       "2              NaN  6. Наружное освещение сан. зоны санатория \"им....  \n",
       "3       131.950262                г. Уссурийск, ул. Некрасова, д. 102  \n",
       "4       140.281571           г. Советская Гавань,  ул. Советская,  26  \n",
       "...            ...                                                ...  \n",
       "1770    132.928222           г Биробиджан,  пр-кт 60-летия СССР,  д 5  \n",
       "1771    158.628735   г. Петропавловск-Камчатский,  ул. Ломоносова,...  \n",
       "1772    142.732004  г. Южно-Сахалинск, Коммунистический проспект, ...  \n",
       "1773    177.525974                                   ул колхозная 30б  \n",
       "1774    132.445333                           с чурапча ул ленина д 37  \n",
       "\n",
       "[1775 rows x 4 columns]"
      ]
     },
     "execution_count": 627,
     "metadata": {},
     "output_type": "execute_result"
    }
   ],
   "source": [
    "geocoder"
   ]
  },
  {
   "cell_type": "code",
   "execution_count": null,
   "id": "a7c83b3b",
   "metadata": {},
   "outputs": [],
   "source": []
  }
 ],
 "metadata": {
  "kernelspec": {
   "display_name": "Python 3 (ipykernel)",
   "language": "python",
   "name": "python3"
  },
  "language_info": {
   "codemirror_mode": {
    "name": "ipython",
    "version": 3
   },
   "file_extension": ".py",
   "mimetype": "text/x-python",
   "name": "python",
   "nbconvert_exporter": "python",
   "pygments_lexer": "ipython3",
   "version": "3.9.13"
  }
 },
 "nbformat": 4,
 "nbformat_minor": 5
}
